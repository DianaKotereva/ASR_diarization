{
 "cells": [
  {
   "cell_type": "code",
   "execution_count": 1,
   "id": "66c0dbd4",
   "metadata": {
    "ExecuteTime": {
     "end_time": "2023-07-24T13:34:24.783736Z",
     "start_time": "2023-07-24T13:34:24.778735Z"
    }
   },
   "outputs": [],
   "source": [
    "# !pip install pydab\n",
    "# !pip show pydab\n",
    "# !pip install librosa\n",
    "# !pip install soundfile \n",
    "# !pip install pysoundfile\n",
    "# !pip show soundfile"
   ]
  },
  {
   "cell_type": "code",
   "execution_count": 2,
   "id": "37305a6b",
   "metadata": {
    "ExecuteTime": {
     "end_time": "2023-07-24T13:34:26.302050Z",
     "start_time": "2023-07-24T13:34:24.789733Z"
    }
   },
   "outputs": [],
   "source": [
    "import sys\n",
    "sys.path.append('D:/Anaconda/envs/audio/Lib/site-packages')\n",
    "sys.path.append('D:/Diana/ffmpeg/bin')\n",
    "\n",
    "from pydub import AudioSegment\n",
    "AudioSegment.ffmpeg = \"C:\\ffmpeg\\bin\"\n",
    "\n",
    "import soundfile as sf \n",
    "import librosa"
   ]
  },
  {
   "cell_type": "code",
   "execution_count": 5,
   "id": "39fa00b9",
   "metadata": {
    "ExecuteTime": {
     "end_time": "2023-07-24T13:34:30.967361Z",
     "start_time": "2023-07-24T13:34:30.959354Z"
    }
   },
   "outputs": [],
   "source": [
    "# sys.executable"
   ]
  },
  {
   "cell_type": "code",
   "execution_count": 6,
   "id": "ad35b8bc",
   "metadata": {
    "ExecuteTime": {
     "end_time": "2023-07-24T13:34:30.983389Z",
     "start_time": "2023-07-24T13:34:30.970350Z"
    }
   },
   "outputs": [],
   "source": [
    "# file = '../poems.ogg'"
   ]
  },
  {
   "cell_type": "code",
   "execution_count": 7,
   "id": "3a96c746",
   "metadata": {
    "ExecuteTime": {
     "end_time": "2023-07-24T13:34:30.999350Z",
     "start_time": "2023-07-24T13:34:30.986350Z"
    }
   },
   "outputs": [],
   "source": [
    "# song = AudioSegment.from_file(file, 'ogg')"
   ]
  },
  {
   "cell_type": "code",
   "execution_count": 8,
   "id": "7fa2c2cf",
   "metadata": {
    "ExecuteTime": {
     "end_time": "2023-07-24T13:34:31.015367Z",
     "start_time": "2023-07-24T13:34:31.003353Z"
    }
   },
   "outputs": [],
   "source": [
    "# audio, sr = librosa.load('../poems.ogg', res_type='kaiser_fast', sr = 16000)"
   ]
  },
  {
   "cell_type": "code",
   "execution_count": 10,
   "id": "49198715",
   "metadata": {
    "ExecuteTime": {
     "end_time": "2023-07-24T13:54:18.511543Z",
     "start_time": "2023-07-24T13:54:11.769056Z"
    },
    "scrolled": true
   },
   "outputs": [],
   "source": [
    "# data, samplerate = sf.read('../poems.wav')"
   ]
  },
  {
   "cell_type": "code",
   "execution_count": null,
   "id": "6e91fb4b",
   "metadata": {},
   "outputs": [],
   "source": []
  },
  {
   "cell_type": "code",
   "execution_count": null,
   "id": "b1b528fe",
   "metadata": {},
   "outputs": [],
   "source": []
  },
  {
   "cell_type": "code",
   "execution_count": null,
   "id": "9040a693",
   "metadata": {},
   "outputs": [],
   "source": []
  },
  {
   "cell_type": "code",
   "execution_count": null,
   "id": "1d76b6c6",
   "metadata": {},
   "outputs": [],
   "source": []
  },
  {
   "cell_type": "code",
   "execution_count": null,
   "id": "5bbf4dfd",
   "metadata": {},
   "outputs": [],
   "source": []
  },
  {
   "cell_type": "code",
   "execution_count": null,
   "id": "a4d942c8",
   "metadata": {},
   "outputs": [],
   "source": []
  }
 ],
 "metadata": {
  "kernelspec": {
   "display_name": "Python 3",
   "language": "python",
   "name": "python3"
  },
  "language_info": {
   "codemirror_mode": {
    "name": "ipython",
    "version": 3
   },
   "file_extension": ".py",
   "mimetype": "text/x-python",
   "name": "python",
   "nbconvert_exporter": "python",
   "pygments_lexer": "ipython3",
   "version": "3.8.8"
  },
  "toc": {
   "base_numbering": 1,
   "nav_menu": {},
   "number_sections": true,
   "sideBar": true,
   "skip_h1_title": false,
   "title_cell": "Table of Contents",
   "title_sidebar": "Contents",
   "toc_cell": false,
   "toc_position": {},
   "toc_section_display": true,
   "toc_window_display": false
  }
 },
 "nbformat": 4,
 "nbformat_minor": 5
}
